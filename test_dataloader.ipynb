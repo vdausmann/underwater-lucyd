{
 "cells": [
  {
   "cell_type": "code",
   "execution_count": 1,
   "metadata": {},
   "outputs": [],
   "source": [
    "import numpy as np\n",
    "import torch\n",
    "import torch.nn as nn\n",
    "from torchmetrics import PeakSignalNoiseRatio\n",
    "from utils.ssim import get_SSIM\n",
    "from lucyd import LUCYD\n",
    "from torchvision import models, transforms, datasets\n",
    "import os\n",
    "from PIL import Image\n",
    "from sklearn.model_selection import train_test_split\n",
    "from tqdm import tqdm\n",
    "import wandb\n",
    "from types import SimpleNamespace\n",
    "import torchvision.transforms.functional as TF"
   ]
  },
  {
   "cell_type": "code",
   "execution_count": 13,
   "metadata": {},
   "outputs": [],
   "source": [
    "class CustomDataset(torch.utils.data.Dataset):\n",
    "    def __init__(self, data_dir_blurred, data_dir_gt, filenames):\n",
    "        self.data_dir_blurred = data_dir_blurred\n",
    "        self.data_dir_gt = data_dir_gt\n",
    "        self.filenames = filenames\n",
    "        #self.transform = transform\n",
    "    \n",
    "    def transform(self, blurred, gt):\n",
    "        # # Resize\n",
    "        # resize = transforms.Resize(size=(520, 520))\n",
    "        # image = resize(image)\n",
    "        # mask = resize(mask)\n",
    "\n",
    "        # Random crop\n",
    "        i, j, h, w = transforms.RandomCrop.get_params(\n",
    "            blurred, output_size=config.img_size)\n",
    "        blurred = TF.crop(blurred, i, j, h, w)\n",
    "        gt = TF.crop(gt, i, j, h, w)\n",
    "\n",
    "        # Transform to tensor\n",
    "        blurred = TF.to_tensor(blurred)\n",
    "        gt = TF.to_tensor(gt)\n",
    "\n",
    "        blurred = blurred\n",
    "        gt = gt\n",
    "\n",
    "        return blurred, gt\n",
    "        \n",
    "    def __len__(self):\n",
    "        return len(self.filenames)\n",
    "    \n",
    "    def __getitem__(self, idx):\n",
    "        image_name = self.filenames[idx]\n",
    "        image_path_blurred = os.path.join(self.data_dir_blurred, image_name)\n",
    "        image_path_gt = os.path.join(self.data_dir_gt, image_name)\n",
    "        \n",
    "        image_blurred = Image.open(image_path_blurred).convert(\"L\")  # Convert to grayscale\n",
    "        image_gt = Image.open(image_path_gt).convert(\"L\")\n",
    "        input_image, gt_image = self.transform(image_blurred, image_gt)\n",
    "                \n",
    "        return input_image, gt_image"
   ]
  },
  {
   "cell_type": "code",
   "execution_count": 14,
   "metadata": {},
   "outputs": [
    {
     "name": "stdout",
     "output_type": "stream",
     "text": [
      "{'train': 1200, 'val': 300}\n"
     ]
    }
   ],
   "source": [
    "# Let's define a config object to store our hyperparameters\n",
    "config = SimpleNamespace(\n",
    "        epochs = 200,\n",
    "        batch_size = 4,\n",
    "        img_size = (512,512),\n",
    "        lr = 1e-3,\n",
    "        betas = (0.9, 0.999),\n",
    "        valid_pct = 0.2,\n",
    "        start_ckpt = '/home/plankton/underwater-lucyd/models/lucyd-edof-plankton.pth',\n",
    "        best_loss = 0.03866,\n",
    "    )\n",
    "    \n",
    "data_dir = '/home/plankton/Data/edof_sim'\n",
    "data_dir_blurred = os.path.join(data_dir, 'blurred')  # Path to the folder containing blurred images\n",
    "data_dir_gt = os.path.join(data_dir, 'gt')  # Path to the folder containing ground truth images\n",
    "\n",
    "blurred_filenames = os.listdir(data_dir_blurred)\n",
    "train_blurred_filenames, val_blurred_filenames = train_test_split(blurred_filenames, test_size=config.valid_pct, random_state=42)  # Adjust test_size and random_state\n",
    "\n",
    "image_datasets = {\n",
    "        'train': CustomDataset(data_dir_blurred, data_dir_gt, train_blurred_filenames),\n",
    "        'val': CustomDataset(data_dir_blurred, data_dir_gt, val_blurred_filenames)\n",
    "    }\n",
    "\n",
    "dataloaders = {\n",
    "        'train': torch.utils.data.DataLoader(image_datasets['train'], batch_size=config.batch_size, shuffle=True, num_workers=4),\n",
    "        'val': torch.utils.data.DataLoader(image_datasets['val'], batch_size=config.batch_size, shuffle=False, num_workers=4)\n",
    "    }\n",
    "\n",
    "train_dataloader = dataloaders['train']\n",
    "val_dataloader = dataloaders['val']\n",
    "dataset_sizes = {x: len(image_datasets[x]) for x in ['train', 'val']}\n",
    "print(dataset_sizes)\n",
    "    "
   ]
  },
  {
   "cell_type": "code",
   "execution_count": 28,
   "metadata": {},
   "outputs": [
    {
     "data": {
      "image/png": "[encoded data removed]",
      "text/plain": [
       "<PIL.Image.Image image mode=L size=512x512 at 0x7F1192D9ECB0>"
      ]
     },
     "metadata": {},
     "output_type": "display_data"
    }
   ],
   "source": [
    "from IPython.display import display\n",
    "from torchvision import transforms\n",
    "\n",
    "img = image_datasets['train'][0][0]\n",
    "\n",
    "# Assuming you have a tensor image 'img' and a transform\n",
    "transform_to_pil = transforms.ToPILImage()\n",
    "pil_image = transform_to_pil(img)\n",
    "\n",
    "# Display the PIL image inline\n",
    "display(pil_image)\n"
   ]
  }
 ],
 "metadata": {
  "kernelspec": {
   "display_name": "Python 3",
   "language": "python",
   "name": "python3"
  },
  "language_info": {
   "codemirror_mode": {
    "name": "ipython",
    "version": 3
   },
   "file_extension": ".py",
   "mimetype": "text/x-python",
   "name": "python",
   "nbconvert_exporter": "python",
   "pygments_lexer": "ipython3",
   "version": "3.10.12"
  },
  "orig_nbformat": 4
 },
 "nbformat": 4,
 "nbformat_minor": 2
}
